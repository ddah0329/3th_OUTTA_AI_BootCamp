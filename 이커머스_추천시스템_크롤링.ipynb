{
  "nbformat": 4,
  "nbformat_minor": 0,
  "metadata": {
    "colab": {
      "provenance": [],
      "authorship_tag": "ABX9TyMRwXCyNXQGhatVP5SFGSiu",
      "include_colab_link": true
    },
    "kernelspec": {
      "name": "python3",
      "display_name": "Python 3"
    },
    "language_info": {
      "name": "python"
    }
  },
  "cells": [
    {
      "cell_type": "markdown",
      "metadata": {
        "id": "view-in-github",
        "colab_type": "text"
      },
      "source": [
        "<a href=\"https://colab.research.google.com/github/ddah0329/3th_OUTTA_AI_BootCamp/blob/main/%EC%9D%B4%EC%BB%A4%EB%A8%B8%EC%8A%A4_%EC%B6%94%EC%B2%9C%EC%8B%9C%EC%8A%A4%ED%85%9C_%ED%81%AC%EB%A1%A4%EB%A7%81.ipynb\" target=\"_parent\"><img src=\"https://colab.research.google.com/assets/colab-badge.svg\" alt=\"Open In Colab\"/></a>"
      ]
    },
    {
      "cell_type": "code",
      "source": [
        "import requests\n",
        "from bs4 import BeautifulSoup\n",
        "import pandas as pd\n",
        "\n",
        "# 페이지 번호 범위 설정 (1부터 3까지)\n",
        "page_range = range(1, 4)\n",
        "\n",
        "# 기본 URL (pageIdx 부분만 동적으로 변경)\n",
        "base_url = \"https://www.oliveyoung.co.kr/store/display/getMCategoryList.do?dispCatNo=1000001000100150001&fltDispCatNo=&prdSort=01&pageIdx={}&rowsPerPage=36&searchTypeSort=btn_thumb&plusButtonFlag=N&isLoginCnt=0&aShowCnt=0&bShowCnt=0&cShowCnt=0&trackingCd=Cat1000001000100150001_Small&amplitudePageGubun=&t_page=&t_click=&midCategory=%ED%81%AC%EB%A6%BC&smallCategory=%EC%86%8C_%ED%81%AC%EB%A6%BC&checkBrnds=&lastChkBrnd=\"\n",
        "\n",
        "# 결과 저장할 리스트\n",
        "results = []\n",
        "\n",
        "# 각 페이지의 데이터를 크롤링하는 함수\n",
        "def crawl_page(url):\n",
        "    response = requests.get(url)\n",
        "    soup = BeautifulSoup(response.text, 'html.parser')\n",
        "\n",
        "    # 'prd_info' 클래스에 해당하는 div 내부에서 a 태그 추출\n",
        "    product_infos = soup.select('.prd_info')\n",
        "\n",
        "    for product in product_infos:\n",
        "        # 브랜드명과 상품명을 추출\n",
        "        brand = product.select_one('.tx_brand').get_text(strip=True)\n",
        "        name = product.select_one('.tx_name').get_text(strip=True)\n",
        "\n",
        "        # 상품 링크 추출 (href 속성)\n",
        "        link_tag = product.select_one('a')\n",
        "        product_link = link_tag['href'] if link_tag else None\n",
        "\n",
        "        # 추출한 데이터를 results 리스트에 추가\n",
        "        if product_link:\n",
        "            results.append({\n",
        "                \"brand\": brand,\n",
        "                \"name\": name,\n",
        "                \"url\": product_link\n",
        "            })\n",
        "\n",
        "# 상품별 상세 페이지에서 별점과 리뷰 수를 가져오는 함수\n",
        "def get_review_data(product_url):\n",
        "    response = requests.get(product_url)\n",
        "    soup = BeautifulSoup(response.text, 'html.parser')\n",
        "\n",
        "    # 별점과 리뷰 수 추출\n",
        "    rating = soup.select_one('p#repReview b').get_text(strip=True) if soup.select_one('p#repReview b') else \"N/A\"\n",
        "    review_count = soup.select_one('p#repReview em').get_text(strip=True) if soup.select_one('p#repReview em') else \"N/A\"\n",
        "\n",
        "    return rating, review_count\n"
      ],
      "metadata": {
        "id": "FSSrB6V_W-bJ"
      },
      "execution_count": 5,
      "outputs": []
    },
    {
      "cell_type": "code",
      "source": [
        "# 페이지 번호를 변경하면서 크롤링 수행\n",
        "for page_idx in page_range:\n",
        "    url = base_url.format(page_idx)\n",
        "    crawl_page(url)\n",
        "\n",
        "# 각 상품 페이지에 접속하여 별점과 리뷰 수 크롤링\n",
        "for item in results:\n",
        "    rating, review_count = get_review_data(item['url'])\n",
        "    item['rating'] = rating\n",
        "    item['review_count'] = review_count\n",
        "\n",
        "# # 크롤링 결과 출력\n",
        "# for item in results:\n",
        "#     print(f\"브랜드: {item['brand']}\")\n",
        "#     print(f\"상품명: {item['name']}\")\n",
        "#     print(f\"링크: {item['url']}\")\n",
        "#     print(f\"별점: {item['rating']}\")\n",
        "#     print(f\"리뷰 수: {item['review_count']}\")\n",
        "#     print(\"-\" * 100)\n",
        "\n",
        "# 결과를 데이터프레임으로 변환\n",
        "df = pd.DataFrame(results)\n",
        "\n",
        "# CSV 파일로 저장\n",
        "df.to_csv('oliveyoung_products_data.csv', index=False, encoding='utf-8-sig')\n",
        "\n",
        "# 크롤링한 상품의 총 개수 출력\n",
        "print(f\"\\n전체상품 : {len(results)}\")"
      ],
      "metadata": {
        "colab": {
          "base_uri": "https://localhost:8080/"
        },
        "id": "nPL796GydSlw",
        "outputId": "2c4e266c-d750-4df6-9715-3fdc4e6f9231"
      },
      "execution_count": 6,
      "outputs": [
        {
          "output_type": "stream",
          "name": "stdout",
          "text": [
            "\n",
            "전체상품 : 108\n"
          ]
        }
      ]
    },
    {
      "cell_type": "code",
      "source": [
        "import matplotlib.pyplot as plt\n",
        "import seaborn as sns\n",
        "import numpy as np"
      ],
      "metadata": {
        "id": "zF1tbPpceun-"
      },
      "execution_count": 7,
      "outputs": []
    },
    {
      "cell_type": "code",
      "source": [
        "# 'rating' 데이터를 리스트로 묶음\n",
        "ratings = [item['rating'] for item in results if item['rating'] != \"N/A\"]\n",
        "\n",
        "# 문자열을 실수로 변환\n",
        "ratings_float = [float(r) for r in ratings]\n",
        "\n",
        "# Seaborn 스타일 설정\n",
        "sns.set(style=\"whitegrid\")\n",
        "\n",
        "# 별점별 빈도수\n",
        "plt.figure(figsize=(8, 6))\n",
        "sns.countplot(x=ratings_float, palette=\"Blues\")\n",
        "plt.title('Ratings Count')\n",
        "plt.xlabel('Rating')\n",
        "plt.ylabel('Count')\n",
        "plt.show()"
      ],
      "metadata": {
        "colab": {
          "base_uri": "https://localhost:8080/",
          "height": 662
        },
        "id": "geKeV40LfqJR",
        "outputId": "f5104bec-a6b4-42ff-d1d9-528c8852466c"
      },
      "execution_count": 8,
      "outputs": [
        {
          "output_type": "stream",
          "name": "stderr",
          "text": [
            "<ipython-input-8-8f3938f749d4>:12: FutureWarning: \n",
            "\n",
            "Passing `palette` without assigning `hue` is deprecated and will be removed in v0.14.0. Assign the `x` variable to `hue` and set `legend=False` for the same effect.\n",
            "\n",
            "  sns.countplot(x=ratings_float, palette=\"Blues\")\n"
          ]
        },
        {
          "output_type": "display_data",
          "data": {
            "text/plain": [
              "<Figure size 800x600 with 1 Axes>"
            ],
            "image/png": "[encoded data removed]"
          },
          "metadata": {}
        }
      ]
    }
  ]
}