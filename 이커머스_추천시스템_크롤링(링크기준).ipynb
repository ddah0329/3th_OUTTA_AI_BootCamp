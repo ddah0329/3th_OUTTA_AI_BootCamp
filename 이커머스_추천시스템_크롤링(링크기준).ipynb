{
  "nbformat": 4,
  "nbformat_minor": 0,
  "metadata": {
    "colab": {
      "provenance": [],
      "authorship_tag": "ABX9TyNbAZizCUECPZn6b0dFAn+K",
      "include_colab_link": true
    },
    "kernelspec": {
      "name": "python3",
      "display_name": "Python 3"
    },
    "language_info": {
      "name": "python"
    }
  },
  "cells": [
    {
      "cell_type": "markdown",
      "metadata": {
        "id": "view-in-github",
        "colab_type": "text"
      },
      "source": [
        "<a href=\"https://colab.research.google.com/github/ddah0329/3th_OUTTA_AI_BootCamp/blob/main/%EC%9D%B4%EC%BB%A4%EB%A8%B8%EC%8A%A4_%EC%B6%94%EC%B2%9C%EC%8B%9C%EC%8A%A4%ED%85%9C_%ED%81%AC%EB%A1%A4%EB%A7%81(%EB%A7%81%ED%81%AC%EA%B8%B0%EC%A4%80).ipynb\" target=\"_parent\"><img src=\"https://colab.research.google.com/assets/colab-badge.svg\" alt=\"Open In Colab\"/></a>"
      ]
    },
    {
      "cell_type": "code",
      "source": [
        "import requests\n",
        "from bs4 import BeautifulSoup\n",
        "import pandas as pd\n",
        "\n",
        "# 페이지 번호 범위 설정 (1부터 3까지)\n",
        "page_range = range(1, 4)\n",
        "\n",
        "# 기본 URL (pageIdx 부분만 동적으로 변경)\n",
        "base_url = \"https://www.oliveyoung.co.kr/store/display/getMCategoryList.do?dispCatNo=1000001000100150001&fltDispCatNo=&prdSort=01&pageIdx={}&rowsPerPage=36&searchTypeSort=btn_thumb&plusButtonFlag=N&isLoginCnt=0&aShowCnt=0&bShowCnt=0&cShowCnt=0&trackingCd=Cat1000001000100150001_Small&amplitudePageGubun=&t_page=&t_click=&midCategory=%ED%81%AC%EB%A6%BC&smallCategory=%EC%86%8C_%ED%81%AC%EB%A6%BC&checkBrnds=&lastChkBrnd=\"\n",
        "\n",
        "# 결과 저장할 리스트\n",
        "results = []\n",
        "\n",
        "# 각 페이지의 데이터를 크롤링하는 함수 (상품 URL 수집)\n",
        "def crawl_page(url):\n",
        "    response = requests.get(url)\n",
        "    soup = BeautifulSoup(response.text, 'html.parser')\n",
        "\n",
        "    # 'prd_info' 클래스에 해당하는 div 내부에서 a 태그 추출하여 상품 URL 가져오기\n",
        "    product_infos = soup.select('.prd_info')\n",
        "\n",
        "    for product in product_infos:\n",
        "        # 상품 링크 추출 (href 속성)\n",
        "        link_tag = product.select_one('a')\n",
        "        product_link = link_tag['href'] if link_tag else None\n",
        "\n",
        "        # 추출한 URL을 results 리스트에 추가\n",
        "        if product_link:\n",
        "            results.append({\"url\": product_link})\n",
        "\n",
        "# 상품별 상세 페이지에서 브랜드명, 제품명, 별점, 리뷰 수를 가져오는 함수\n",
        "def get_review_data(product_url):\n",
        "    response = requests.get(product_url)\n",
        "    soup = BeautifulSoup(response.text, 'html.parser')\n",
        "\n",
        "    # 브랜드명 추출\n",
        "    brand_name = soup.select_one('p.prd_brand a').get_text(strip=True) if soup.select_one('p.prd_brand a') else \"N/A\"\n",
        "\n",
        "    # 제품명 추출\n",
        "    product_name = soup.select_one('.prd_name').get_text(strip=True) if soup.select_one('.prd_name') else \"N/A\"\n",
        "\n",
        "    # 별점과 리뷰 수 추출\n",
        "    review_grade = soup.select_one('p#repReview b').get_text(strip=True) if soup.select_one('p#repReview b') else \"N/A\"\n",
        "    review_count = soup.select_one('p#repReview em').get_text(strip=True) if soup.select_one('p#repReview em') else \"N/A\"\n",
        "\n",
        "    return brand_name, product_name, review_grade, review_count\n",
        "\n",
        "# 각 페이지를 순회하며 상품 URL 크롤링\n",
        "for page in page_range:\n",
        "    crawl_page(base_url.format(page))\n",
        "\n",
        "# 수집된 각 상품의 URL을 통해 브랜드명, 제품명, 리뷰 데이터를 가져오기\n",
        "for result in results:\n",
        "    brand_name, product_name, review_grade, review_count = get_review_data(result['url'])\n",
        "    result['brand_name'] = brand_name\n",
        "    result['product_name'] = product_name\n",
        "    result['review_grade'] = review_grade\n",
        "    result['review_count'] = review_count\n",
        "\n",
        "# 결과를 데이터프레임으로 변환하여 출력\n",
        "df = pd.DataFrame(results)\n",
        "print(df)\n"
      ],
      "metadata": {
        "id": "FSSrB6V_W-bJ",
        "colab": {
          "base_uri": "https://localhost:8080/"
        },
        "outputId": "12ad1a2f-8bfc-4ef6-ea89-00732b7dd88d"
      },
      "execution_count": 7,
      "outputs": [
        {
          "output_type": "stream",
          "name": "stdout",
          "text": [
            "                                                   url brand_name  \\\n",
            "0    https://www.oliveyoung.co.kr/store/goods/getGo...        케어존   \n",
            "1    https://www.oliveyoung.co.kr/store/goods/getGo...      메이크프렘   \n",
            "2    https://www.oliveyoung.co.kr/store/goods/getGo...        닥터지   \n",
            "3    https://www.oliveyoung.co.kr/store/goods/getGo...        토리든   \n",
            "4    https://www.oliveyoung.co.kr/store/goods/getGo...      에스네이처   \n",
            "..                                                 ...        ...   \n",
            "103  https://www.oliveyoung.co.kr/store/goods/getGo...       셀퓨전씨   \n",
            "104  https://www.oliveyoung.co.kr/store/goods/getGo...       셀퓨전씨   \n",
            "105  https://www.oliveyoung.co.kr/store/goods/getGo...        메디필   \n",
            "106  https://www.oliveyoung.co.kr/store/goods/getGo...       유리아쥬   \n",
            "107  https://www.oliveyoung.co.kr/store/goods/getGo...     닥터디퍼런트   \n",
            "\n",
            "                                          product_name review_grade  \\\n",
            "0           [8/22 하루특가] 케어존 리큐어 노르데나우 시카 크림 60ml 더블 기획          4.7   \n",
            "1    [8월 올영픽/크림31ml 추가증정] 메이크프렘 인테카 수딩크림 70ml 기획(+크...          4.8   \n",
            "2          [굿즈증정/1+1]닥터지 레드 블레미쉬 클리어 수딩 크림 70ml 1+1 기획          4.9   \n",
            "3    [8월 올영픽/브랜든콜라보] 토리든 다이브인 수딩크림 더블 한정 기획 (100ml+...          4.8   \n",
            "4    [8월 올영픽/수분쿨링진정] 에스네이처 아쿠아 오아시스 수분 젤크림 90ml 기획 ...          4.8   \n",
            "..                                                 ...          ...   \n",
            "103                           셀퓨전씨 포스트알파 카밍 다운 크림 50ml          4.7   \n",
            "104                            셀퓨전씨 약산성 패리어 수분 크림 80ml          4.8   \n",
            "105             [모공/수분] 메디필 히알루론산 레이어 물톡스 크림 50g 더블 기획          4.7   \n",
            "106       유리아쥬 제모스 페이스 더블 기획 (40ml+40ml+제모스토너 50ml 증정)          4.8   \n",
            "107                           닥터디퍼런트 311 모이스처라이저 100ml          4.8   \n",
            "\n",
            "    review_count  \n",
            "0         (563건)  \n",
            "1       (9,339건)  \n",
            "2       (3,477건)  \n",
            "3      (13,527건)  \n",
            "4       (1,553건)  \n",
            "..           ...  \n",
            "103       (762건)  \n",
            "104     (1,395건)  \n",
            "105       (224건)  \n",
            "106       (222건)  \n",
            "107       (136건)  \n",
            "\n",
            "[108 rows x 5 columns]\n"
          ]
        }
      ]
    },
    {
      "cell_type": "code",
      "source": [
        "# CSV 파일로 저장\n",
        "df.to_csv('oliveyoung_products_data.csv', index=False, encoding='utf-8-sig')\n",
        "\n",
        "# 크롤링한 상품의 총 개수 출력\n",
        "print(f\"\\n전체상품 : {len(results)}\")"
      ],
      "metadata": {
        "colab": {
          "base_uri": "https://localhost:8080/"
        },
        "id": "nPL796GydSlw",
        "outputId": "365b5067-8bfe-47fc-939a-b894b915c4bd"
      },
      "execution_count": 8,
      "outputs": [
        {
          "output_type": "stream",
          "name": "stdout",
          "text": [
            "\n",
            "전체상품 : 108\n"
          ]
        }
      ]
    },
    {
      "cell_type": "code",
      "source": [
        "import matplotlib.pyplot as plt\n",
        "import seaborn as sns\n",
        "import numpy as np"
      ],
      "metadata": {
        "id": "zF1tbPpceun-"
      },
      "execution_count": 9,
      "outputs": []
    },
    {
      "cell_type": "code",
      "source": [
        "# 'rating' 데이터를 리스트로 묶음\n",
        "ratings = [item['review_grade'] for item in results if item['review_grade'] != \"N/A\"]\n",
        "\n",
        "# 문자열을 실수로 변환\n",
        "ratings_float = [float(r) for r in ratings]\n",
        "\n",
        "# Seaborn 스타일 설정\n",
        "sns.set(style=\"whitegrid\")\n",
        "\n",
        "# 별점별 빈도수\n",
        "plt.figure(figsize=(8, 6))\n",
        "sns.countplot(x=ratings_float, palette=\"Blues\")\n",
        "plt.title('Ratings Count')\n",
        "plt.xlabel('review_grade')\n",
        "plt.ylabel('Count')\n",
        "plt.show()"
      ],
      "metadata": {
        "colab": {
          "base_uri": "https://localhost:8080/",
          "height": 682
        },
        "id": "geKeV40LfqJR",
        "outputId": "8051d697-8268-40e2-f68c-943fbc8f1553"
      },
      "execution_count": 10,
      "outputs": [
        {
          "output_type": "stream",
          "name": "stderr",
          "text": [
            "<ipython-input-10-3e2938e3f20f>:12: FutureWarning: \n",
            "\n",
            "Passing `palette` without assigning `hue` is deprecated and will be removed in v0.14.0. Assign the `x` variable to `hue` and set `legend=False` for the same effect.\n",
            "\n",
            "  sns.countplot(x=ratings_float, palette=\"Blues\")\n"
          ]
        },
        {
          "output_type": "display_data",
          "data": {
            "text/plain": [
              "<Figure size 800x600 with 1 Axes>"
            ],
            "image/png": "[encoded data removed]"
          },
          "metadata": {}
        }
      ]
    }
  ]
}